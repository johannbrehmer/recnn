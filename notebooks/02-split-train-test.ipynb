{
 "cells": [
  {
   "cell_type": "code",
   "execution_count": 2,
   "metadata": {
    "collapsed": true
   },
   "outputs": [],
   "source": [
    "import sys\n",
    "sys.path.append(\"..\")"
   ]
  },
  {
   "cell_type": "code",
   "execution_count": 3,
   "metadata": {
    "collapsed": true
   },
   "outputs": [],
   "source": [
    "import numpy as np\n",
    "import pickle\n",
    "from recnn.preprocessing import load_from_pickle"
   ]
  },
  {
   "cell_type": "markdown",
   "metadata": {},
   "source": [
    "# W vs QCD"
   ]
  },
  {
   "cell_type": "markdown",
   "metadata": {},
   "source": [
    "The original splits were made as 180k for training and 20k for test.\n",
    "\n",
    "We ended up rebalancing the splits as 100k for training and 100 for test. This repartition is found in the last cell of `03-preprocessing`."
   ]
  },
  {
   "cell_type": "code",
   "execution_count": 4,
   "metadata": {
    "collapsed": true
   },
   "outputs": [],
   "source": [
    "background = load_from_pickle(\"/scratch/jb6504/data/w-vs-qcd/anti-kt/antikt-qcd-pileup25_new.pickle\", 100000)\n",
    "signal = load_from_pickle(\"/scratch/jb6504/data/w-vs-qcd/anti-kt/antikt-w-pileup25_new.pickle\", 100000)\n",
    "\n",
    "X_train = []\n",
    "y_train = []\n",
    "X_test = []\n",
    "y_test = []\n",
    "\n",
    "for i in range(90000):\n",
    "    X_train.append(background[i])\n",
    "    y_train.append(0)\n",
    "for i in range(90000):\n",
    "    X_train.append(signal[i])\n",
    "    y_train.append(1)\n",
    "for i in range(90000, 100000):\n",
    "    X_test.append(background[i])\n",
    "    y_test.append(0)\n",
    "for i in range(90000, 100000):\n",
    "    X_test.append(signal[i])\n",
    "    y_test.append(1)\n",
    "\n",
    "fd = open(\"/scratch/jb6504/data/w-vs-qcd/anti-kt/antikt-pileup25-new-train.pickle\", \"wb\")\n",
    "# fd = open(\"/scratch/jb6504/data/w-vs-qcd/anti-kt/antikt-train.pickle\", \"wb\")\n",
    "pickle.dump((X_train, y_train), fd, protocol=2)\n",
    "fd.close()\n",
    "fd = open(\"/scratch/jb6504/data/w-vs-qcd/anti-kt/antikt-pileup25-new-test.pickle\", \"wb\")\n",
    "# fd = open(\"/scratch/jb6504/data/w-vs-qcd/anti-kt/antikt-test.pickle\", \"wb\")\n",
    "pickle.dump((X_test, y_test), fd, protocol=2)\n",
    "fd.close()"
   ]
  },
  {
   "cell_type": "code",
   "execution_count": null,
   "metadata": {
    "collapsed": true
   },
   "outputs": [],
   "source": [
    "# soft\n",
    "background = load_from_pickle(\"/home/gilles/gdrive/research/sandbox/learning-qcd-rnn/data/w-vs-qcd/anti-kt/antikt-soft-qcd.pickle\", 100000)\n",
    "signal = load_from_pickle(\"/home/gilles/gdrive/research/sandbox/learning-qcd-rnn/data/w-vs-qcd/anti-kt/antikt-soft-w.pickle\", 100000)\n",
    "\n",
    "X_train = []\n",
    "y_train = []\n",
    "X_test = []\n",
    "y_test = []\n",
    "\n",
    "for i in range(90000):\n",
    "    X_train.append(background[i])\n",
    "    y_train.append(0)\n",
    "for i in range(90000):\n",
    "    X_train.append(signal[i])\n",
    "    y_train.append(1)\n",
    "for i in range(90000, 100000):\n",
    "    X_test.append(background[i])\n",
    "    y_test.append(0)\n",
    "for i in range(90000, 100000):\n",
    "    X_test.append(signal[i])\n",
    "    y_test.append(1)\n",
    "    \n",
    "fd = open(\"../data/w-vs-qcd/anti-kt/antikt-soft-train.pickle\", \"wb\")\n",
    "pickle.dump((X_train, y_train), fd, protocol=pickle.HIGHEST_PROTOCOL)\n",
    "fd.close()\n",
    "fd = open(\"../data/w-vs-qcd/anti-kt/antikt-soft-test.pickle\", \"wb\")\n",
    "pickle.dump((X_test, y_test), fd, protocol=pickle.HIGHEST_PROTOCOL)\n",
    "fd.close()"
   ]
  },
  {
   "cell_type": "code",
   "execution_count": null,
   "metadata": {
    "collapsed": true
   },
   "outputs": [],
   "source": [
    "# delphes data\n",
    "background = load_from_pickle(\"/home/gilles/gdrive/research/sandbox/learning-qcd-rnn/data/w-vs-qcd/anti-kt/antikt-qcd-delphes.pickle\", 100000)\n",
    "signal = load_from_pickle(\"/home/gilles/gdrive/research/sandbox/learning-qcd-rnn/data/w-vs-qcd/anti-kt/antikt-w-delphes.pickle\", 100000)\n",
    "\n",
    "X_train = []\n",
    "y_train = []\n",
    "X_test = []\n",
    "y_test = []\n",
    "\n",
    "for i in range(90000):\n",
    "    X_train.append(background[i])\n",
    "    y_train.append(0)\n",
    "for i in range(90000):\n",
    "    X_train.append(signal[i])\n",
    "    y_train.append(1)\n",
    "for i in range(90000, 100000):\n",
    "    X_test.append(background[i])\n",
    "    y_test.append(0)\n",
    "for i in range(90000, 100000):\n",
    "    X_test.append(signal[i])\n",
    "    y_test.append(1)\n",
    "    \n",
    "fd = open(\"../data/w-vs-qcd/anti-kt/antikt-delphes-train.pickle\", \"wb\")\n",
    "pickle.dump((X_train, y_train), fd, protocol=pickle.HIGHEST_PROTOCOL)\n",
    "fd.close()\n",
    "fd = open(\"../data/w-vs-qcd/anti-kt/antikt-delphes-test.pickle\", \"wb\")\n",
    "pickle.dump((X_test, y_test), fd, protocol=pickle.HIGHEST_PROTOCOL)\n",
    "fd.close()"
   ]
  },
  {
   "cell_type": "code",
   "execution_count": null,
   "metadata": {
    "collapsed": true
   },
   "outputs": [],
   "source": [
    "# images data\n",
    "background = load_from_pickle(\"/home/gilles/gdrive/research/sandbox/learning-qcd-rnn/data/w-vs-qcd/anti-kt/images-qcd.pickle\", 100000)\n",
    "signal = load_from_pickle(\"/home/gilles/gdrive/research/sandbox/learning-qcd-rnn/data/w-vs-qcd/anti-kt/images-w.pickle\", 100000)\n",
    "\n",
    "X_train = []\n",
    "y_train = []\n",
    "X_test = []\n",
    "y_test = []\n",
    "\n",
    "for i in range(50000):\n",
    "    X_train.append(background[i])\n",
    "    y_train.append(0)\n",
    "for i in range(50000):\n",
    "    X_train.append(signal[i])\n",
    "    y_train.append(1)\n",
    "for i in range(50000, 100000):\n",
    "    X_test.append(background[i])\n",
    "    y_test.append(0)\n",
    "for i in range(50000, 100000):\n",
    "    X_test.append(signal[i])\n",
    "    y_test.append(1)\n",
    "    \n",
    "fd = open(\"../data/w-vs-qcd/anti-kt/images-train.pickle\", \"wb\")\n",
    "pickle.dump((X_train, y_train), fd, protocol=2)\n",
    "fd.close()\n",
    "fd = open(\"../data/w-vs-qcd/anti-kt/images-test.pickle\", \"wb\")\n",
    "pickle.dump((X_test, y_test), fd, protocol=2)\n",
    "fd.close()"
   ]
  },
  {
   "cell_type": "code",
   "execution_count": null,
   "metadata": {
    "collapsed": true
   },
   "outputs": [],
   "source": [
    "# event-level data\n",
    "fd_background = open(\"/home/gilles/gdrive/research/sandbox/learning-qcd-rnn/data/w-vs-qcd/anti-kt/antikt-qcd-event.pickle\", \"rb\")\n",
    "fd_signal = open(\"/home/gilles/gdrive/research/sandbox/learning-qcd-rnn/data/w-vs-qcd/anti-kt/antikt-w-event.pickle\", \"rb\")\n",
    "# fd_background = open(\"/home/gilles/gdrive/research/sandbox/learning-qcd-rnn/data/w-vs-qcd/anti-kt/antikt-delphes-qcd-event.pickle\", \"rb\")\n",
    "# fd_signal = open(\"/home/gilles/gdrive/research/sandbox/learning-qcd-rnn/data/w-vs-qcd/anti-kt/antikt-delphes-w-event.pickle\", \"rb\")\n",
    "\n",
    "fd_train = open(\"../data/w-vs-qcd/anti-kt/antikt-event-train.pickle\", \"wb\")\n",
    "# fd_train = open(\"../data/w-vs-qcd/anti-kt/antikt-delphes-event-train.pickle\", \"wb\")\n",
    "for i in range(40000):\n",
    "    event = pickle.load(fd_background)\n",
    "    pickle.dump((event, 0), fd_train, protocol=2)\n",
    "    event = pickle.load(fd_signal)\n",
    "    pickle.dump((event, 1), fd_train, protocol=2)\n",
    "fd_train.close()\n",
    "\n",
    "fd_test = open(\"../data/w-vs-qcd/anti-kt/antikt-event-test.pickle\", \"wb\")\n",
    "# fd_test = open(\"../data/w-vs-qcd/anti-kt/antikt-delphes-event-test.pickle\", \"wb\")\n",
    "for i in range(10000):\n",
    "    event = pickle.load(fd_background)\n",
    "    pickle.dump((event, 0), fd_test, protocol=2)\n",
    "    event = pickle.load(fd_signal)\n",
    "    pickle.dump((event, 1), fd_test, protocol=2)\n",
    "fd_test.close()"
   ]
  }
 ],
 "metadata": {
  "kernelspec": {
   "display_name": "Python 3",
   "language": "python",
   "name": "python3"
  },
  "language_info": {
   "codemirror_mode": {
    "name": "ipython",
    "version": 3
   },
   "file_extension": ".py",
   "mimetype": "text/x-python",
   "name": "python",
   "nbconvert_exporter": "python",
   "pygments_lexer": "ipython3",
   "version": "3.6.2"
  }
 },
 "nbformat": 4,
 "nbformat_minor": 1
}
